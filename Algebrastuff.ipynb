{
  "nbformat": 4,
  "nbformat_minor": 0,
  "metadata": {
    "colab": {
      "provenance": [],
      "authorship_tag": "ABX9TyNqMq6TQgzAWim9EbnRgBI8",
      "include_colab_link": true
    },
    "kernelspec": {
      "name": "python3",
      "display_name": "Python 3"
    },
    "language_info": {
      "name": "python"
    }
  },
  "cells": [
    {
      "cell_type": "markdown",
      "metadata": {
        "id": "view-in-github",
        "colab_type": "text"
      },
      "source": [
        "<a href=\"https://colab.research.google.com/github/OldmanHades/AlgebraforClass/blob/main/Algebrastuff.ipynb\" target=\"_parent\"><img src=\"https://colab.research.google.com/assets/colab-badge.svg\" alt=\"Open In Colab\"/></a>"
      ]
    },
    {
      "cell_type": "markdown",
      "source": [
        "# Let's Do Some Math!"
      ],
      "metadata": {
        "id": "tRdieQeiMzwy"
      }
    },
    {
      "cell_type": "code",
      "execution_count": null,
      "metadata": {
        "id": "CNFcASjyMvmL"
      },
      "outputs": [],
      "source": [
        "import sympy\n",
        "from sympy import symbols\n",
        "from sympy.solvers import solve"
      ]
    },
    {
      "cell_type": "code",
      "source": [
        "x = symbols('x')"
      ],
      "metadata": {
        "id": "dF4KOSXHNnIm"
      },
      "execution_count": null,
      "outputs": []
    },
    {
      "cell_type": "markdown",
      "source": [
        "Put Equations Here:"
      ],
      "metadata": {
        "id": "p1fCzvSfNq8w"
      }
    },
    {
      "cell_type": "code",
      "source": [
        "eq = 2*x - 4"
      ],
      "metadata": {
        "id": "1hU0yUoANwtz"
      },
      "execution_count": null,
      "outputs": []
    },
    {
      "cell_type": "code",
      "source": [
        "print(\"x = \", solve(eq,x))"
      ],
      "metadata": {
        "colab": {
          "base_uri": "https://localhost:8080/"
        },
        "id": "hL6qodj7Nz8k",
        "outputId": "7daa0537-2f71-42b8-c4a1-bcf1d6868e0a"
      },
      "execution_count": null,
      "outputs": [
        {
          "output_type": "stream",
          "name": "stdout",
          "text": [
            "x =  [2]\n"
          ]
        }
      ]
    },
    {
      "cell_type": "markdown",
      "source": [
        "# Extra Problems?"
      ],
      "metadata": {
        "id": "K6qtDGnLO8ff"
      }
    },
    {
      "cell_type": "markdown",
      "source": [
        "Prompting for input??"
      ],
      "metadata": {
        "id": "uiRnvH5CPBJO"
      }
    },
    {
      "cell_type": "code",
      "source": [
        "import sympy\n",
        "from sympy import symbols\n",
        "from sympy.solvers import solve"
      ],
      "metadata": {
        "id": "L3Wd8-oCPsvo"
      },
      "execution_count": null,
      "outputs": []
    },
    {
      "cell_type": "code",
      "source": [
        "x = symbols('x')\n",
        "eq = input('Enter equation: 0 =')\n",
        "print(\"x =\", solve(eq,x))"
      ],
      "metadata": {
        "colab": {
          "base_uri": "https://localhost:8080/"
        },
        "id": "wGkPDPDCP8sA",
        "outputId": "559c8537-7fb1-4e12-f8fa-1fa5aa26ce8d"
      },
      "execution_count": null,
      "outputs": [
        {
          "output_type": "stream",
          "name": "stdout",
          "text": [
            "Enter equation: 0 =3*x-6\n",
            "x = [2]\n"
          ]
        }
      ]
    },
    {
      "cell_type": "markdown",
      "source": [
        "Doing More?"
      ],
      "metadata": {
        "id": "s5pTtyZDQ0Ep"
      }
    },
    {
      "cell_type": "code",
      "source": [
        "import sympy\n",
        "from sympy import symbols\n",
        "from sympy.solvers import solve"
      ],
      "metadata": {
        "id": "xBXfZUvsQ2Bh"
      },
      "execution_count": null,
      "outputs": []
    },
    {
      "cell_type": "code",
      "source": [
        "x = symbols('x')"
      ],
      "metadata": {
        "id": "hhrk5t_3Q5mx"
      },
      "execution_count": null,
      "outputs": []
    },
    {
      "cell_type": "markdown",
      "source": [
        "Put equation here..."
      ],
      "metadata": {
        "id": "-N9QcAcPRDfe"
      }
    },
    {
      "cell_type": "code",
      "source": [
        "eq = 2*x - 4"
      ],
      "metadata": {
        "id": "wcvNMlG-RF77"
      },
      "execution_count": null,
      "outputs": []
    },
    {
      "cell_type": "code",
      "source": [
        "solution = solve(eq,x)\n",
        "print(\"x = \", solution[0])"
      ],
      "metadata": {
        "id": "ERWXMbiPRK-h"
      },
      "execution_count": null,
      "outputs": []
    },
    {
      "cell_type": "markdown",
      "source": [
        "Multiple Answers"
      ],
      "metadata": {
        "id": "vNAMAJ9xRkOR"
      }
    },
    {
      "cell_type": "code",
      "source": [
        "import sympy\n",
        "from sympy import symbols\n",
        "from sympy.solvers import solve"
      ],
      "metadata": {
        "id": "sbggC3uDRmvW"
      },
      "execution_count": null,
      "outputs": []
    },
    {
      "cell_type": "code",
      "source": [
        "x = symbols('x')\n",
        "eq = input ('Enter equation: 0 = ')\n",
        "\n",
        "solution = solve(eq,x)\n",
        "for s in solution:\n",
        "  print(\"x = \", s)"
      ],
      "metadata": {
        "colab": {
          "base_uri": "https://localhost:8080/"
        },
        "id": "a9XrSYNHRs35",
        "outputId": "3460933d-f4db-4d57-ed71-9a5337797014"
      },
      "execution_count": null,
      "outputs": [
        {
          "output_type": "stream",
          "name": "stdout",
          "text": [
            "Enter equation: 0 = (x-1)*(x+2)*(x-3)\n",
            "x =  -2\n",
            "x =  1\n",
            "x =  3\n"
          ]
        }
      ]
    },
    {
      "cell_type": "markdown",
      "source": [
        "More Extras"
      ],
      "metadata": {
        "id": "r5ClrLisrTMd"
      }
    },
    {
      "cell_type": "code",
      "source": [
        "from sympy import*\n",
        "\n",
        "var ('x y')\n"
      ],
      "metadata": {
        "id": "iK86UcbzrVL0"
      },
      "execution_count": null,
      "outputs": []
    },
    {
      "cell_type": "markdown",
      "source": [
        "First equation set equal to zero, ready to solve."
      ],
      "metadata": {
        "id": "NDhfNEbqry9u"
      }
    },
    {
      "cell_type": "code",
      "source": [
        "first = 2*x + 10 - y"
      ],
      "metadata": {
        "id": "QDMSadcHr5ey"
      },
      "execution_count": null,
      "outputs": []
    },
    {
      "cell_type": "markdown",
      "source": [
        "Sympy syntax for equal to zero, ready to factor."
      ],
      "metadata": {
        "id": "ONrCimETr-xy"
      }
    },
    {
      "cell_type": "code",
      "source": [
        "eql = Eq(first, y)"
      ],
      "metadata": {
        "id": "c7ldeCGjsNPt"
      },
      "execution_count": null,
      "outputs": []
    },
    {
      "cell_type": "markdown",
      "source": [
        "Sympy solve for x"
      ],
      "metadata": {
        "id": "8902ByXIsSRg"
      }
    },
    {
      "cell_type": "code",
      "source": [
        "sol = solve(eql, x)"
      ],
      "metadata": {
        "id": "WlkCiEFgsW_d"
      },
      "execution_count": null,
      "outputs": []
    },
    {
      "cell_type": "markdown",
      "source": [
        "Show factored results"
      ],
      "metadata": {
        "id": "M9M5aPbgslHN"
      }
    },
    {
      "cell_type": "code",
      "source": [
        "print(\"x =\", sol [0])"
      ],
      "metadata": {
        "id": "pvoLhXAJsnbv"
      },
      "execution_count": null,
      "outputs": []
    },
    {
      "cell_type": "markdown",
      "source": [
        "Factoring?"
      ],
      "metadata": {
        "id": "yX9B4ljyt1LJ"
      }
    },
    {
      "cell_type": "code",
      "source": [
        "import sympy\n",
        "from sympy import symbols"
      ],
      "metadata": {
        "id": "o7diAXCqt3ZI"
      },
      "execution_count": null,
      "outputs": []
    },
    {
      "cell_type": "code",
      "source": [
        "var('x y')"
      ],
      "metadata": {
        "id": "GAjhiosSt8ys"
      },
      "execution_count": null,
      "outputs": []
    },
    {
      "cell_type": "markdown",
      "source": [
        "Equation set equal to zero"
      ],
      "metadata": {
        "id": "tBXLyxehuBhL"
      }
    },
    {
      "cell_type": "code",
      "source": [
        "eq = 2 * x + 10 * y + 4"
      ],
      "metadata": {
        "id": "zl3bWaANuEyO"
      },
      "execution_count": null,
      "outputs": []
    },
    {
      "cell_type": "code",
      "source": [
        "eq = x**3 - 2*x**2 - 5*x + 6"
      ],
      "metadata": {
        "id": "diCFRoLtuS2O"
      },
      "execution_count": null,
      "outputs": []
    },
    {
      "cell_type": "code",
      "source": [
        "eq = x**2-4"
      ],
      "metadata": {
        "id": "a3aqVb7gw3Wu"
      },
      "execution_count": null,
      "outputs": []
    },
    {
      "cell_type": "code",
      "source": [
        "sympy.factor(eq)"
      ],
      "metadata": {
        "id": "q4zenPuxuMjJ"
      },
      "execution_count": null,
      "outputs": []
    }
  ]
}